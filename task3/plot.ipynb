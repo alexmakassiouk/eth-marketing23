{
 "cells": [
  {
   "cell_type": "code",
   "execution_count": 2,
   "metadata": {},
   "outputs": [
    {
     "data": {
      "text/html": [
       "<div>\n",
       "<style scoped>\n",
       "    .dataframe tbody tr th:only-of-type {\n",
       "        vertical-align: middle;\n",
       "    }\n",
       "\n",
       "    .dataframe tbody tr th {\n",
       "        vertical-align: top;\n",
       "    }\n",
       "\n",
       "    .dataframe thead th {\n",
       "        text-align: right;\n",
       "    }\n",
       "</style>\n",
       "<table border=\"1\" class=\"dataframe\">\n",
       "  <thead>\n",
       "    <tr style=\"text-align: right;\">\n",
       "      <th></th>\n",
       "      <th>cohort</th>\n",
       "      <th>user</th>\n",
       "      <th>time_year</th>\n",
       "      <th>time_month</th>\n",
       "      <th>subscription</th>\n",
       "      <th>content</th>\n",
       "      <th>genres</th>\n",
       "      <th>recency_new</th>\n",
       "      <th>bounce</th>\n",
       "    </tr>\n",
       "  </thead>\n",
       "  <tbody>\n",
       "    <tr>\n",
       "      <th>0</th>\n",
       "      <td>0</td>\n",
       "      <td>0</td>\n",
       "      <td>2018</td>\n",
       "      <td>0</td>\n",
       "      <td>1</td>\n",
       "      <td>4</td>\n",
       "      <td>4</td>\n",
       "      <td>0,4</td>\n",
       "      <td>0</td>\n",
       "    </tr>\n",
       "    <tr>\n",
       "      <th>1</th>\n",
       "      <td>0</td>\n",
       "      <td>1</td>\n",
       "      <td>2018</td>\n",
       "      <td>0</td>\n",
       "      <td>1</td>\n",
       "      <td>8</td>\n",
       "      <td>3</td>\n",
       "      <td>0,125</td>\n",
       "      <td>0,5</td>\n",
       "    </tr>\n",
       "    <tr>\n",
       "      <th>2</th>\n",
       "      <td>0</td>\n",
       "      <td>2</td>\n",
       "      <td>2018</td>\n",
       "      <td>0</td>\n",
       "      <td>1</td>\n",
       "      <td>4</td>\n",
       "      <td>2</td>\n",
       "      <td>0</td>\n",
       "      <td>0,2</td>\n",
       "    </tr>\n",
       "    <tr>\n",
       "      <th>3</th>\n",
       "      <td>0</td>\n",
       "      <td>3</td>\n",
       "      <td>2018</td>\n",
       "      <td>0</td>\n",
       "      <td>1</td>\n",
       "      <td>2</td>\n",
       "      <td>2</td>\n",
       "      <td>0,75</td>\n",
       "      <td>0,25</td>\n",
       "    </tr>\n",
       "    <tr>\n",
       "      <th>4</th>\n",
       "      <td>0</td>\n",
       "      <td>4</td>\n",
       "      <td>2018</td>\n",
       "      <td>0</td>\n",
       "      <td>1</td>\n",
       "      <td>3</td>\n",
       "      <td>2</td>\n",
       "      <td>0</td>\n",
       "      <td>1</td>\n",
       "    </tr>\n",
       "  </tbody>\n",
       "</table>\n",
       "</div>"
      ],
      "text/plain": [
       "   cohort   user    time_year   time_month   subscription   content   genres   \\\n",
       "0        0       0        2018            0              1        4        4    \n",
       "1        0       1        2018            0              1        8        3    \n",
       "2        0       2        2018            0              1        4        2    \n",
       "3        0       3        2018            0              1        2        2    \n",
       "4        0       4        2018            0              1        3        2    \n",
       "\n",
       "   recency_new  bounce  \n",
       "0  0,4               0  \n",
       "1  0,125           0,5  \n",
       "2  0               0,2  \n",
       "3  0,75           0,25  \n",
       "4  0                 1  "
      ]
     },
     "metadata": {},
     "output_type": "display_data"
    },
    {
     "data": {
      "text/html": [
       "<div>\n",
       "<style scoped>\n",
       "    .dataframe tbody tr th:only-of-type {\n",
       "        vertical-align: middle;\n",
       "    }\n",
       "\n",
       "    .dataframe tbody tr th {\n",
       "        vertical-align: top;\n",
       "    }\n",
       "\n",
       "    .dataframe thead th {\n",
       "        text-align: right;\n",
       "    }\n",
       "</style>\n",
       "<table border=\"1\" class=\"dataframe\">\n",
       "  <thead>\n",
       "    <tr style=\"text-align: right;\">\n",
       "      <th></th>\n",
       "      <th>cohort</th>\n",
       "      <th>user</th>\n",
       "      <th>time_year</th>\n",
       "      <th>time_month</th>\n",
       "      <th>subscription</th>\n",
       "    </tr>\n",
       "  </thead>\n",
       "  <tbody>\n",
       "    <tr>\n",
       "      <th>count</th>\n",
       "      <td>30442.000000</td>\n",
       "      <td>30442.000000</td>\n",
       "      <td>30442.000000</td>\n",
       "      <td>30442.000000</td>\n",
       "      <td>30442.0</td>\n",
       "    </tr>\n",
       "    <tr>\n",
       "      <th>mean</th>\n",
       "      <td>5.500723</td>\n",
       "      <td>9764.188720</td>\n",
       "      <td>2018.214178</td>\n",
       "      <td>5.892188</td>\n",
       "      <td>1.0</td>\n",
       "    </tr>\n",
       "    <tr>\n",
       "      <th>std</th>\n",
       "      <td>3.500705</td>\n",
       "      <td>5599.130687</td>\n",
       "      <td>0.410257</td>\n",
       "      <td>3.495266</td>\n",
       "      <td>0.0</td>\n",
       "    </tr>\n",
       "    <tr>\n",
       "      <th>min</th>\n",
       "      <td>0.000000</td>\n",
       "      <td>0.000000</td>\n",
       "      <td>2018.000000</td>\n",
       "      <td>0.000000</td>\n",
       "      <td>1.0</td>\n",
       "    </tr>\n",
       "    <tr>\n",
       "      <th>25%</th>\n",
       "      <td>2.000000</td>\n",
       "      <td>4879.000000</td>\n",
       "      <td>2018.000000</td>\n",
       "      <td>3.000000</td>\n",
       "      <td>1.0</td>\n",
       "    </tr>\n",
       "    <tr>\n",
       "      <th>50%</th>\n",
       "      <td>6.000000</td>\n",
       "      <td>9901.500000</td>\n",
       "      <td>2018.000000</td>\n",
       "      <td>6.000000</td>\n",
       "      <td>1.0</td>\n",
       "    </tr>\n",
       "    <tr>\n",
       "      <th>75%</th>\n",
       "      <td>9.000000</td>\n",
       "      <td>14314.000000</td>\n",
       "      <td>2018.000000</td>\n",
       "      <td>9.000000</td>\n",
       "      <td>1.0</td>\n",
       "    </tr>\n",
       "    <tr>\n",
       "      <th>max</th>\n",
       "      <td>11.000000</td>\n",
       "      <td>20331.000000</td>\n",
       "      <td>2019.000000</td>\n",
       "      <td>11.000000</td>\n",
       "      <td>1.0</td>\n",
       "    </tr>\n",
       "  </tbody>\n",
       "</table>\n",
       "</div>"
      ],
      "text/plain": [
       "            cohort         user      time_year    time_month   subscription \n",
       "count  30442.000000  30442.000000  30442.000000  30442.000000        30442.0\n",
       "mean       5.500723   9764.188720   2018.214178      5.892188            1.0\n",
       "std        3.500705   5599.130687      0.410257      3.495266            0.0\n",
       "min        0.000000      0.000000   2018.000000      0.000000            1.0\n",
       "25%        2.000000   4879.000000   2018.000000      3.000000            1.0\n",
       "50%        6.000000   9901.500000   2018.000000      6.000000            1.0\n",
       "75%        9.000000  14314.000000   2018.000000      9.000000            1.0\n",
       "max       11.000000  20331.000000   2019.000000     11.000000            1.0"
      ]
     },
     "metadata": {},
     "output_type": "display_data"
    },
    {
     "name": "stdout",
     "output_type": "stream",
     "text": [
      "<class 'pandas.core.frame.DataFrame'>\n",
      "RangeIndex: 30442 entries, 0 to 30441\n",
      "Data columns (total 9 columns):\n",
      " #   Column         Non-Null Count  Dtype \n",
      "---  ------         --------------  ----- \n",
      " 0   cohort         30442 non-null  int64 \n",
      " 1   user           30442 non-null  int64 \n",
      " 2   time_year      30442 non-null  int64 \n",
      " 3   time_month     30442 non-null  int64 \n",
      " 4   subscription   30442 non-null  int64 \n",
      " 5   content        30442 non-null  object\n",
      " 6   genres         30442 non-null  object\n",
      " 7   recency_new    30442 non-null  object\n",
      " 8   bounce         30442 non-null  object\n",
      "dtypes: int64(5), object(4)\n",
      "memory usage: 2.1+ MB\n"
     ]
    },
    {
     "data": {
      "text/plain": [
       "None"
      ]
     },
     "metadata": {},
     "output_type": "display_data"
    },
    {
     "data": {
      "text/plain": [
       "Index(['cohort ', 'user  ', 'time_year ', 'time_month ', 'subscription ',\n",
       "       'content ', 'genres ', 'recency_new ', 'bounce'],\n",
       "      dtype='object')"
      ]
     },
     "metadata": {},
     "output_type": "display_data"
    },
    {
     "name": "stdout",
     "output_type": "stream",
     "text": [
      "[2385, 3821, 1973, 1495, 2398, 2596, 3435, 2631, 1807, 2273, 3219, 2409]\n"
     ]
    }
   ],
   "source": [
    "%load_ext autoreload\n",
    "%autoreload 2\n",
    "import pandas as pd\n",
    "import matplotlib.pyplot as plt\n",
    "import numpy as np\n",
    "\n",
    "from main2 import get_retention_rates,get_avg_retention_rate"
   ]
  },
  {
   "cell_type": "code",
   "execution_count": 3,
   "metadata": {},
   "outputs": [
    {
     "data": {
      "text/plain": [
       "[0.46085858585858586,\n",
       " 0.07397260273972603,\n",
       " 0.2962962962962963,\n",
       " 0.0625,\n",
       " 0,\n",
       " nan,\n",
       " nan,\n",
       " nan,\n",
       " nan,\n",
       " nan,\n",
       " nan,\n",
       " nan]"
      ]
     },
     "execution_count": 3,
     "metadata": {},
     "output_type": "execute_result"
    }
   ],
   "source": [
    "#3a\n",
    "get_retention_rates(0)"
   ]
  },
  {
   "cell_type": "code",
   "execution_count": 51,
   "metadata": {},
   "outputs": [
    {
     "data": {
      "image/png": "[encoded data removed]",
      "text/plain": [
       "<Figure size 1200x600 with 1 Axes>"
      ]
     },
     "metadata": {},
     "output_type": "display_data"
    }
   ],
   "source": [
    "#3b\n",
    "def plot(data: list[float], ylabel):\n",
    "    data = data + [0]*(12-len(data))\n",
    "    t = np.linspace(0,12,12)\n",
    "    plt.figure(figsize=(12,6))\n",
    "    plt.bar(t, data, tick_label=[\"Mar\", \"Apr\", \"May\", \"Jun\", \"Jul\", \"Aug\", \"Sep\", \"Oct\", \"Nov\", \"Dec\", \"Jan\", \"Feb\"])\n",
    "    plt.xlabel(\"Month\")\n",
    "    plt.ylabel(ylabel)\n",
    "    plt.show()\n",
    "\n",
    "plot(get_retention_rates(0),'Retention Rate for Cohort 0')"
   ]
  },
  {
   "cell_type": "code",
   "execution_count": 52,
   "metadata": {},
   "outputs": [
    {
     "name": "stdout",
     "output_type": "stream",
     "text": [
      "0.17872549697892165\n"
     ]
    }
   ],
   "source": [
    "#3c\n",
    "print(get_avg_retention_rate(0))"
   ]
  },
  {
   "cell_type": "code",
   "execution_count": 53,
   "metadata": {},
   "outputs": [],
   "source": [
    "#3d\n",
    "#https://dougshapiro.medium.com/to-everything-churn-churn-churn-b9044d376be\n",
    "#Gjøre om fra churn rate til retention rate\n"
   ]
  },
  {
   "cell_type": "code",
   "execution_count": 55,
   "metadata": {},
   "outputs": [
    {
     "name": "stdout",
     "output_type": "stream",
     "text": [
      "[[0.46085858585858586, 0.07397260273972603, 0.2962962962962963, 0.0625, 0, nan, nan, nan, nan, nan, nan, nan], [0.5438898450946644, 0.17009493670886075, 0.03255813953488372, 0.5714285714285714, 0.5, 0.5, 1.0, 1.0, 1.0, 1.0, 0, nan], [0.4191443074691806, 0.01730103806228374, 0.4, 0.5, 0, nan, nan, nan, nan, nan, nan, nan], [0.16441620333598095, 0.09178743961352658, 0.3684210526315789, 0.14285714285714285, 1.0, 1.0, 0, nan, nan, nan, nan, nan], [0.4665257223396758, 0.324773413897281, 0.18604651162790697, 0.65, 0.7692307692307693, 0.8, 0, nan, nan, nan, nan, nan], [0.4993849938499385, 0.12438423645320197, 0.2871287128712871, 0.5862068965517241, 0.5882352941176471, 0.1, 0, nan, nan, nan, nan, nan], [0.7248677248677249, 0.08832116788321168, 0.24793388429752067, 0.6333333333333333, 0.2631578947368421, 0, nan, nan, nan, nan, nan, nan], [0.7076183939601922, 0.10572259941804074, 0.24770642201834864, 0.25925925925925924, 0, nan, nan, nan, nan, nan, nan, nan], [0.4593669803250642, 0.16387337057728119, 0.14772727272727273, 0, nan, nan, nan, nan, nan, nan, nan, nan], [0.43530911408540474, 0.03074670571010249, 0, nan, nan, nan, nan, nan, nan, nan, nan, nan], [0.4325767690253672, nan, nan, nan, nan, nan, nan, nan, nan, nan, nan, nan], [nan, nan, nan, nan, nan, nan, nan, nan, nan, nan, nan, nan]]\n"
     ]
    }
   ],
   "source": [
    "#3e - monthly retention rates\n",
    "#Leaving out cohort 0\n",
    "rentention_rates_cohorts_0_to_11 = []\n",
    "for i in range(12):\n",
    "    rentention_rates_cohorts_0_to_11 += [get_retention_rates(i)]\n",
    "print(rentention_rates_cohorts_0_to_11)"
   ]
  },
  {
   "cell_type": "code",
   "execution_count": 56,
   "metadata": {},
   "outputs": [
    {
     "name": "stdout",
     "output_type": "stream",
     "text": [
      "0.17872549697892165\n",
      "0.5743610447969982\n",
      "0.26728906910629285\n",
      "0.39535454834831846\n",
      "0.4566537738708047\n",
      "0.3121914476919712\n",
      "0.32626900085310545\n",
      "0.2640613349311682\n",
      "0.19274190590740453\n",
      "0.15535193993183574\n",
      "0.4325767690253672\n",
      "nan\n"
     ]
    },
    {
     "name": "stderr",
     "output_type": "stream",
     "text": [
      "c:\\Users\\ida\\OneDrive - NTNU\\Documents\\H23\\Marketing\\CPA\\CPA_code\\eth-marketing23\\task3\\main2.py:58: RuntimeWarning: Mean of empty slice\n",
      "  return np.nanmean(retention_rates)\n"
     ]
    }
   ],
   "source": [
    "#3e - Average retention rates\n",
    "#leaving in cohort 0\n",
    "average_rentention_rates_cohorts_0_to_11 = []\n",
    "for i in range(12):\n",
    "    average_rentention_rates_cohorts_0_to_11 += [get_avg_retention_rate(i)]\n",
    "    print(average_rentention_rates_cohorts_0_to_11[i])"
   ]
  },
  {
   "cell_type": "code",
   "execution_count": 58,
   "metadata": {},
   "outputs": [
    {
     "data": {
      "text/plain": [
       "Text(0, 0.5, 'Retention rate')"
      ]
     },
     "execution_count": 58,
     "metadata": {},
     "output_type": "execute_result"
    },
    {
     "data": {
      "image/png": "[encoded data removed]",
      "text/plain": [
       "<Figure size 640x480 with 1 Axes>"
      ]
     },
     "metadata": {},
     "output_type": "display_data"
    }
   ],
   "source": [
    "#3f\n",
    "plt.bar(np.arange(12),average_rentention_rates_cohorts_0_to_11)\n",
    "plt.xlabel('Cohort')\n",
    "plt.ylabel('Retention rate')"
   ]
  },
  {
   "cell_type": "code",
   "execution_count": 72,
   "metadata": {},
   "outputs": [
    {
     "name": "stderr",
     "output_type": "stream",
     "text": [
      "C:\\Users\\ida\\AppData\\Local\\Packages\\PythonSoftwareFoundation.Python.3.11_qbz5n2kfra8p0\\LocalCache\\local-packages\\Python311\\site-packages\\numpy\\lib\\shape_base.py:402: RuntimeWarning: Mean of empty slice\n",
      "  buff[ind] = asanyarray(func1d(inarr_view[ind], *args, **kwargs))\n"
     ]
    },
    {
     "data": {
      "text/plain": [
       "<BarContainer object of 12 artists>"
      ]
     },
     "execution_count": 72,
     "metadata": {},
     "output_type": "execute_result"
    },
    {
     "data": {
      "image/png": "[encoded data removed]",
      "text/plain": [
       "<Figure size 640x480 with 1 Axes>"
      ]
     },
     "metadata": {},
     "output_type": "display_data"
    }
   ],
   "source": [
    "#3g - average monthly retention rate across cohorts\n",
    "#NOTE: average is unweighted\n",
    "rentention_rates_cohorts_0_to_11 = np.array(rentention_rates_cohorts_0_to_11)\n",
    "avg_monthly_retention_rate_across_cohorts = np.apply_along_axis(np.nanmean,axis = 0, arr = rentention_rates_cohorts_0_to_11)\n",
    "plt.bar(np.arange(12),avg_monthly_retention_rate_across_cohorts)"
   ]
  },
  {
   "cell_type": "code",
   "execution_count": 74,
   "metadata": {},
   "outputs": [
    {
     "name": "stdout",
     "output_type": "stream",
     "text": [
      "0.4838220981922136\n"
     ]
    },
    {
     "name": "stderr",
     "output_type": "stream",
     "text": [
      "C:\\Users\\ida\\AppData\\Local\\Packages\\PythonSoftwareFoundation.Python.3.11_qbz5n2kfra8p0\\LocalCache\\local-packages\\Python311\\site-packages\\numpy\\lib\\shape_base.py:402: RuntimeWarning: Mean of empty slice\n",
      "  buff[ind] = asanyarray(func1d(inarr_view[ind], *args, **kwargs))\n"
     ]
    }
   ],
   "source": [
    "#3h - average monthly retention rate across cohorts and months\n",
    "avg_monthly_retention_rate_across_cohorts_and_months = np.nanmean(np.apply_along_axis(np.nanmean,axis = 0, arr = rentention_rates_cohorts_0_to_11))\n",
    "print(avg_monthly_retention_rate_across_cohorts_and_months)\n"
   ]
  },
  {
   "cell_type": "code",
   "execution_count": null,
   "metadata": {},
   "outputs": [],
   "source": [
    "#3i\n",
    "#Vil tro 3g er best fordi det viser forskjeller i tid for et større datasett men idk\n"
   ]
  }
 ],
 "metadata": {
  "kernelspec": {
   "display_name": "Python 3",
   "language": "python",
   "name": "python3"
  },
  "language_info": {
   "codemirror_mode": {
    "name": "ipython",
    "version": 3
   },
   "file_extension": ".py",
   "mimetype": "text/x-python",
   "name": "python",
   "nbconvert_exporter": "python",
   "pygments_lexer": "ipython3",
   "version": "3.10.9"
  }
 },
 "nbformat": 4,
 "nbformat_minor": 2
}
