{
 "cells": [
  {
   "cell_type": "markdown",
   "metadata": {},
   "source": [
    "# 1\n",
    "\n",
    "In this assignment we will assume that Netflix has a contractual relationship with its customers. Netflix has a pricing model where customers pay a rate each month, and have access to all of the Video on-demand on the platform at which point every stream is for free when having paid the monthly rate. Because of this monthly payment to get access to the platform it is very reasonable to assume that Netflix has a contractual relationship with its customers."
   ]
  }
 ],
 "metadata": {
  "language_info": {
   "name": "python"
  }
 },
 "nbformat": 4,
 "nbformat_minor": 2
}
