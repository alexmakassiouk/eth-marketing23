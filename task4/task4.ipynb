{
 "cells": [
  {
   "cell_type": "code",
   "execution_count": 1,
   "metadata": {},
   "outputs": [],
   "source": [
    "%reload_ext autoreload\n",
    "%autoreload 2\n",
    "import pandas as pd\n",
    "import matplotlib.pyplot as plt\n",
    "import numpy as np\n",
    "from mpmath import nsum, exp, inf\n",
    "from main import get_all_retention_rates_for_cohort, get_data"
   ]
  },
  {
   "cell_type": "markdown",
   "metadata": {},
   "source": [
    "# 4a"
   ]
  },
  {
   "cell_type": "markdown",
   "metadata": {},
   "source": [
    "- $p_{c_k}$ : Active probability from constant retention rate. $p_{c_1} = 1$\n",
    "- $r_c$ : Constant Retention rate"
   ]
  },
  {
   "cell_type": "markdown",
   "metadata": {},
   "source": [
    "$$\\mathbb{E}_c [user \\space months] = \\sum_{k=1}^{\\inf}k \\cdot p_{c_{k}} = \\sum_{k=1}^{\\inf}k \\cdot r_c^{k-1}\\cdot (1-r_c)$$"
   ]
  },
  {
   "cell_type": "code",
   "execution_count": 2,
   "metadata": {},
   "outputs": [
    {
     "name": "stdout",
     "output_type": "stream",
     "text": [
      "2.300437982687964\n"
     ]
    }
   ],
   "source": [
    "data = get_data()\n",
    "\n",
    "constant_retention_rate = 0.56530017\n",
    "\n",
    "active_probs_constant_retention = [(constant_retention_rate)**i for i in range(1000)]\n",
    "#E[lifetime] = 1*retention_rate + 2*retention_rate^2 +..n*retention_rate^3\n",
    "# print(active_probs_constant_retention)\n",
    "# print(nsum(lambda n: n*active_probs_constant_retention[n-1], [1, 100]))\n",
    "expected_value_constant_retention = sum([i*active_probs_constant_retention[i-1]*(1-constant_retention_rate) for i in range(1,len(active_probs_constant_retention))])\n",
    "print(expected_value_constant_retention)"
   ]
  },
  {
   "cell_type": "markdown",
   "metadata": {},
   "source": [
    "# 4b"
   ]
  },
  {
   "cell_type": "markdown",
   "metadata": {},
   "source": [
    "\n",
    "\n",
    "\n",
    "*Should develop strategies to keep the customers in the second month*\n",
    "\n",
    "\n",
    "*The expected lifetime of above 2 is heavily influenced by the loyal customers, that have been staying for many months and therefore driving the expected value up. On the other side we have seen big drops of customers after only one or two months, and we would therefore want to get more users past that critical point of two months. This could be done by more effectively showing the customer relevant content. It is however difficult to personalize content for a user that they have little data on, and one strategy could therefore be to gather data about the particular user from outside of Netflix itself to propose relevant, personalized content that may make the user stay past the critical point*"
   ]
  },
  {
   "cell_type": "markdown",
   "metadata": {},
   "source": []
  },
  {
   "cell_type": "markdown",
   "metadata": {},
   "source": [
    "# 4c"
   ]
  },
  {
   "cell_type": "code",
   "execution_count": 3,
   "metadata": {},
   "outputs": [
    {
     "name": "stdout",
     "output_type": "stream",
     "text": [
      "[1.00000000e+00 4.60858586e-01 3.40909091e-02 1.01010101e-02\n",
      " 6.31313131e-04 0.00000000e+00]\n"
     ]
    },
    {
     "data": {
      "text/plain": [
       "1.5056818182033227"
      ]
     },
     "execution_count": 3,
     "metadata": {},
     "output_type": "execute_result"
    }
   ],
   "source": [
    "def get_all_retention_rates_time_normalized(data):\n",
    "    retention_rates_all_cohorts = []\n",
    "    for i in range(12):\n",
    "        all_retention_rates_for_cohort = (get_all_retention_rates_for_cohort(data,i))\n",
    "        retention_rates_all_cohorts.append(all_retention_rates_for_cohort)\n",
    "    for j in range(1,len(retention_rates_all_cohorts)):\n",
    "        for i in range(j,len(retention_rates_all_cohorts[j])):\n",
    "            retention_rates_all_cohorts[j][i-j] = retention_rates_all_cohorts[j][i]\n",
    "            retention_rates_all_cohorts[j][i] = np.NaN\n",
    "    return retention_rates_all_cohorts\n",
    "\n",
    "retention_rates_cohort0 = np.array(get_all_retention_rates_for_cohort(data,0))\n",
    "\n",
    "active_probs_changing_retention_cohort0 = retention_rates_cohort0\n",
    "active_probs_changing_retention_cohort0[0] = 1\n",
    "active_probs_changing_retention_cohort0 = active_probs_changing_retention_cohort0[~np.isnan(active_probs_changing_retention_cohort0)]\n",
    "active_probs_changing_retention_cohort0 = np.cumprod(active_probs_changing_retention_cohort0)\n",
    "print(active_probs_changing_retention_cohort0)\n",
    "\n",
    "changing_retention_rates_probability_distribution = [(active_probs_changing_retention_cohort0[i-1])*(1-retention_rates_cohort0[i]) for i in range(1,len(active_probs_changing_retention_cohort0))]\n",
    "expectation_value = np.arange(1,len(changing_retention_rates_probability_distribution)+1,1)@changing_retention_rates_probability_distribution\n",
    "expectation_value\n"
   ]
  },
  {
   "cell_type": "markdown",
   "metadata": {},
   "source": [
    "# 4d"
   ]
  },
  {
   "cell_type": "markdown",
   "metadata": {},
   "source": [
    "The values for the different methods of calculating are radically different. Similarly as before we see here a sort of \"abuse\" of doing the average of averages in eliminating the relevance of the sample size. In this case in 4a we are using the average retention rate of the average retention rates of each month after customer acquisition.\n",
    "To get the relevance of the newly acquired customers, also the ones that churned early, the last retention rate in 4c should be used as it is more realistic.\n",
    "Using this, we realize that many churn after only one month, and the active probabilities fall quicker then in the first case"
   ]
  },
  {
   "cell_type": "code",
   "execution_count": 4,
   "metadata": {},
   "outputs": [],
   "source": [
    "#4d\n",
    "#Strategies for keeping customers during first month vs second month"
   ]
  }
 ],
 "metadata": {
  "kernelspec": {
   "display_name": "Python 3",
   "language": "python",
   "name": "python3"
  },
  "language_info": {
   "codemirror_mode": {
    "name": "ipython",
    "version": 3
   },
   "file_extension": ".py",
   "mimetype": "text/x-python",
   "name": "python",
   "nbconvert_exporter": "python",
   "pygments_lexer": "ipython3",
   "version": "3.11.6"
  }
 },
 "nbformat": 4,
 "nbformat_minor": 2
}
