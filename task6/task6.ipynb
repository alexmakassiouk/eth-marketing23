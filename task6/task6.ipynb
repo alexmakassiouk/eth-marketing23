{
 "cells": [
  {
   "cell_type": "code",
   "execution_count": 7,
   "metadata": {},
   "outputs": [],
   "source": [
    "import numpy as np\n",
    "import pandas as pd\n",
    "import matplotlib.pyplot as plt\n",
    "\n",
    "ANNUAL_DISCOUNT_RATE = 0.15\n",
    "CONST_RETENTION_RATE = 0.56530017\n",
    "\n"
   ]
  },
  {
   "cell_type": "markdown",
   "metadata": {},
   "source": [
    "$$(r_{mon}+1)^{12} = 1+r_{year}$$"
   ]
  },
  {
   "cell_type": "markdown",
   "metadata": {},
   "source": [
    "$$r_{mon} = \\sqrt[12]{1+r_{year}}-1$$"
   ]
  },
  {
   "cell_type": "code",
   "execution_count": 8,
   "metadata": {},
   "outputs": [
    {
     "name": "stdout",
     "output_type": "stream",
     "text": [
      "0.01171491691985338\n"
     ]
    }
   ],
   "source": [
    "MONTHLY_DISCOUNT_RATE = (np.power(1+ANNUAL_DISCOUNT_RATE, 1/12) - 1)\n",
    "print(MONTHLY_DISCOUNT_RATE)"
   ]
  },
  {
   "cell_type": "markdown",
   "metadata": {},
   "source": [
    "# 6a"
   ]
  },
  {
   "cell_type": "markdown",
   "metadata": {},
   "source": [
    "Our data is from the UK from 2018. According to [FourWeekMBA](https://fourweekmba.com/netflix-average-monthly-revenue-per-subscriber/) and their figures from Netflix' financials, the EMEA (Europe, Middle-East and Africa) region had Average Monthly Revenue per Subscriber in 2018 of $10.45, which seems reasonable compared to today's monthly rates between $6.99 - $22.99 and optional add-ons.  "
   ]
  },
  {
   "cell_type": "markdown",
   "metadata": {},
   "source": [
    "We will use the reported average revenue per user of **$10.45** and assume that this is the revenue per paying user per month"
   ]
  },
  {
   "cell_type": "markdown",
   "metadata": {},
   "source": [
    "We will now calculate estimates of future revenues per customer, and this could either be done assuming a customer that stays for a whole year, or using the survival probabilities. We will here try to calculate using the constant retention rate as we want to calculate the future revenues of all customers in the customer base and not just the ones we want to acquire now, and get a more general result"
   ]
  },
  {
   "cell_type": "code",
   "execution_count": 9,
   "metadata": {},
   "outputs": [
    {
     "name": "stdout",
     "output_type": "stream",
     "text": [
      "[10.45, 5.83898, 3.26256, 1.82297, 1.01859, 0.56914, 0.31801, 0.17769, 0.09929, 0.05548, 0.031, 0.01732]\n",
      "23.66103\n"
     ]
    },
    {
     "name": "stderr",
     "output_type": "stream",
     "text": [
      "/opt/homebrew/lib/python3.10/site-packages/numpy/lib/shape_base.py:379: RuntimeWarning: Mean of empty slice\n",
      "  res = asanyarray(func1d(inarr_view[ind0], *args, **kwargs))\n",
      "/opt/homebrew/lib/python3.10/site-packages/numpy/lib/shape_base.py:402: RuntimeWarning: Mean of empty slice\n",
      "  buff[ind] = asanyarray(func1d(inarr_view[ind], *args, **kwargs))\n"
     ]
    }
   ],
   "source": [
    "from main import get_all_retention_rates_time_normalized, get_data\n",
    "\n",
    "data = get_data()\n",
    "\n",
    "get_all_retention_rates_months_after_acquisition = get_all_retention_rates_time_normalized(data)\n",
    "\n",
    "avg_monthly_retention_rate_across_cohorts = np.apply_along_axis(np.nanmean,axis = 0, arr = get_all_retention_rates_months_after_acquisition)\n",
    "\n",
    "active_probs_changing_retention = avg_monthly_retention_rate_across_cohorts[1:-1]\n",
    "active_probs_changing_retention = np.insert(active_probs_changing_retention,0,1)\n",
    "active_probs_changing_retention = np.cumprod(active_probs_changing_retention)\n",
    "active_probs_constant_retention = [CONST_RETENTION_RATE**i for i in range(12)]\n",
    "\n",
    "\n",
    "ARPU = 10.45\n",
    "\n",
    "cash_flow = [round(ARPU*active_probs_constant_retention[i]/np.power(1+MONTHLY_DISCOUNT_RATE, i),5) for i in range(12)]\n",
    "print(cash_flow)\n",
    "CLV_year = sum(cash_flow)\n",
    "print(CLV_year)"
   ]
  },
  {
   "cell_type": "markdown",
   "metadata": {},
   "source": [
    "# 6b"
   ]
  },
  {
   "cell_type": "markdown",
   "metadata": {},
   "source": [
    "Assuming zero marginal costs of an extra customer is very reasonable, as the service is already there and serves many customers. Servicing more customers does cost more in terms of server capacity, but this could be seen as fixed costs up to a given capacity, because servicing an extra customer will in most cases not require an increase in capacity"
   ]
  },
  {
   "cell_type": "markdown",
   "metadata": {},
   "source": [
    "# 6c"
   ]
  },
  {
   "cell_type": "markdown",
   "metadata": {},
   "source": [
    "We assume 0 marginal costs for a customer, and therefore consider all revenue as profit. From an accounting perspective we will in this regard treat all Netflix' costs as fixed"
   ]
  },
  {
   "cell_type": "markdown",
   "metadata": {},
   "source": [
    "We are also assuming that we are now at the beginning of month 12, and want to calculate the CLV for acquiring a customer right now"
   ]
  },
  {
   "cell_type": "code",
   "execution_count": 10,
   "metadata": {},
   "outputs": [
    {
     "name": "stdout",
     "output_type": "stream",
     "text": [
      "[1.0, 0.178726, 0.031942983076, 0.005709041593241176, 0.0010203541677936223, 0.00018236381899308293, 3.259315591335774e-05, 5.825244383770776e-06, 1.0411226277338157e-06, 1.8607568276435392e-07, 3.325656247774192e-08, 5.943812385396902e-09, 1.0623138123924467e-09]\n",
      "12.6921507202114\n"
     ]
    }
   ],
   "source": [
    "from mpmath import nsum, inf\n",
    "\n",
    "AVG_RETENTION_RATE_COHORT_0 = 0.178726\n",
    "\n",
    "def survival_prob_for_month_const_rate(month: int):\n",
    "    return np.power(CONST_RETENTION_RATE, month)\n",
    "\n",
    "def survival_prob_for_month_cobort_0(month: int):\n",
    "    return np.power(AVG_RETENTION_RATE_COHORT_0, month)\n",
    "\n",
    "survival_probs_const_rate = [survival_prob_for_month_cobort_0(i) for i in range(0, 13)]\n",
    "print(survival_probs_const_rate)\n",
    "\n",
    "print(nsum(lambda n: ARPU*survival_prob_for_month_cobort_0(n)/(1+MONTHLY_DISCOUNT_RATE)**n, [0, inf]))"
   ]
  },
  {
   "cell_type": "markdown",
   "metadata": {},
   "source": [
    "# 6d"
   ]
  },
  {
   "cell_type": "code",
   "execution_count": 11,
   "metadata": {},
   "outputs": [
    {
     "name": "stdout",
     "output_type": "stream",
     "text": [
      "24.03957691908922\n",
      "15.734375000224714\n"
     ]
    }
   ],
   "source": [
    "\n",
    "constant_rates_expected_lifetime = 2.300437982687964\n",
    "changing_rates_expected_lifetime = 1.505681818203322\n",
    "\n",
    "print(ARPU*constant_rates_expected_lifetime)\n",
    "print(ARPU*changing_rates_expected_lifetime)\n",
    "\n"
   ]
  },
  {
   "cell_type": "code",
   "execution_count": 12,
   "metadata": {},
   "outputs": [
    {
     "name": "stdout",
     "output_type": "stream",
     "text": [
      "23.84628653658242\n",
      "15.673185812375776\n"
     ]
    }
   ],
   "source": [
    "#The apporach above does not seem to take into account the discount rate\n",
    "#I propose the following alternative solution\n",
    "#The difference is small though, because of the short time horizon and relatively low monthly discount rate\n",
    "\n",
    "discount_factor_array = [1/(1+MONTHLY_DISCOUNT_RATE)**n for n in range(12)]\n",
    "\n",
    "\n",
    "def clv_from_expectation_value(expected_lifetime):\n",
    "    lifetime_left = expected_lifetime\n",
    "    counter = 0 \n",
    "    clv = 0\n",
    "    while lifetime_left >=1:\n",
    "        clv += ARPU*discount_factor_array[counter]\n",
    "        counter += 1\n",
    "        lifetime_left -=1\n",
    "    clv += lifetime_left*ARPU*discount_factor_array[counter]\n",
    "    return clv\n",
    "print(clv_from_expectation_value(constant_rates_expected_lifetime))\n",
    "print(clv_from_expectation_value(changing_rates_expected_lifetime))"
   ]
  },
  {
   "cell_type": "markdown",
   "metadata": {},
   "source": [
    "# 6e"
   ]
  },
  {
   "cell_type": "markdown",
   "metadata": {},
   "source": [
    "For [6d](#6d) with the expected lifetime method we see higher CLV's for both constant and changing retention rates in comparison to using an infinite time horizon and the survival probabilities for each month. For [6c](#6c) we only use the average constant retention rate for cohort 0 and not the average across all cohorts. The average retention rate for cohort 0 is lower than the average of all cohorts. In addition to discounting the cash flow. The biggest difference is however accounting for cohort 0 and not averaging across all cohorts, since cohort 0 was really unprofitable compared to the other cohorts for last year. If we would have used the average retention rate across all cohorts, we would get almost the same expected CLV. In summary cohort 0, which is the month we are in now, was a much less profitable group of acquired users last year then the other cohorts, and we expect a lower CLV of $\\$12.69$ for this cohort."
   ]
  },
  {
   "cell_type": "markdown",
   "metadata": {},
   "source": []
  }
 ],
 "metadata": {
  "kernelspec": {
   "display_name": "Python 3",
   "language": "python",
   "name": "python3"
  },
  "language_info": {
   "codemirror_mode": {
    "name": "ipython",
    "version": 3
   },
   "file_extension": ".py",
   "mimetype": "text/x-python",
   "name": "python",
   "nbconvert_exporter": "python",
   "pygments_lexer": "ipython3",
   "version": "3.10.9"
  }
 },
 "nbformat": 4,
 "nbformat_minor": 2
}
