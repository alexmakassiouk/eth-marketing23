{
 "cells": [
  {
   "cell_type": "markdown",
   "metadata": {},
   "source": [
    "# 8a"
   ]
  },
  {
   "cell_type": "markdown",
   "metadata": {},
   "source": [
    "- Recency: 0/1\n",
    "- Duration: 0/1\n",
    "- Genre: 0/1/2/3/4\n",
    "\n",
    "= 3 different attributes\n",
    "\n",
    "\n",
    "Different combinations $= P = 2\\cdot 2 \\cdot 5 = 20$"
   ]
  },
  {
   "cell_type": "markdown",
   "metadata": {},
   "source": [
    "# 8b"
   ]
  },
  {
   "cell_type": "markdown",
   "metadata": {},
   "source": [
    "Genres not mutually exclusive:\n",
    "\n",
    "\n",
    "You can choose a 0 or 1 across all genres $\\rightarrow$ 7 attributes:\n",
    "\n",
    "$$P_1 = 2^7 = 128$$"
   ]
  },
  {
   "cell_type": "code",
   "execution_count": 1,
   "metadata": {},
   "outputs": [
    {
     "name": "stdout",
     "output_type": "stream",
     "text": [
      "128\n"
     ]
    }
   ],
   "source": [
    "print(2**7)"
   ]
  },
  {
   "cell_type": "markdown",
   "metadata": {},
   "source": [
    "128 is a lot more than 20 and does represent a more realistic picture of the very varying nature of video content that always has more or less of each genre, and different durations and recency. 20 different product versions is a generalization that is possible to work with for the conjoint analysis"
   ]
  },
  {
   "cell_type": "markdown",
   "metadata": {},
   "source": [
    "# 8c"
   ]
  },
  {
   "cell_type": "code",
   "execution_count": 2,
   "metadata": {},
   "outputs": [],
   "source": [
    "import pandas as pd\n",
    "from pandas import DataFrame"
   ]
  },
  {
   "cell_type": "code",
   "execution_count": 4,
   "metadata": {},
   "outputs": [],
   "source": [
    "def get_user_data() -> DataFrame:\n",
    "    data = pd.read_csv('../filter_user.csv', sep=';')\n",
    "    return data"
   ]
  },
  {
   "cell_type": "code",
   "execution_count": 9,
   "metadata": {},
   "outputs": [
    {
     "name": "stdout",
     "output_type": "stream",
     "text": [
      "0_1_genre_family_comedy       5\n",
      "1_0_genre_family_comedy       2\n",
      "1_1_genre_family_comedy       2\n",
      "0_1_genre_action_adventure    2\n",
      "1_1_genre_drama               2\n",
      "1_1_genre_documentary         1\n",
      "0_1_genre_drama               1\n",
      "0_0_genre_documentary         1\n",
      "1_1_genre_action_adventure    1\n",
      "0_0_genre_family_comedy       1\n",
      "1_0_genre_thriller_crime      1\n",
      "1_1_genre_thriller_crime      1\n",
      "Name: combination, dtype: int64\n"
     ]
    }
   ],
   "source": [
    "user_data = get_user_data()\n",
    "user_data['combination'] = user_data.apply(\n",
    "    lambda row: f\"{row['recency_new']}_{row['duration_long']}_\" + \n",
    "                \"_\".join([col for col in user_data.columns if col.startswith('genre_') and row[col] == 1]),\n",
    "    axis=1\n",
    ")\n",
    "combination_counts = user_data['combination'].value_counts()\n",
    "\n",
    "print(combination_counts)\n"
   ]
  },
  {
   "cell_type": "markdown",
   "metadata": {},
   "source": [
    "In the rankings of the combinations of attribute levels there is a clear winner with 5 instances, and that is non-recent long family comedies. This user likes family comedies, as the two next most popular with 2 instances each are also family comedies, but these are recent short, and recent long"
   ]
  },
  {
   "cell_type": "code",
   "execution_count": 12,
   "metadata": {},
   "outputs": [],
   "source": [
    "family_comedy = 10/4\n",
    "action_adventure = 3/2\n",
    "drama = 3/2\n",
    "documentary = 2/2\n",
    "thriller_crime = 2/2\n",
    "\n",
    "recency_new = 10/7\n",
    "recency_old = 10/5\n",
    "\n",
    "duration_long = 15/8\n",
    "duration_short = 5/4\n",
    "\n",
    "all_avg_scores = [family_comedy, action_adventure, drama, documentary, thriller_crime, recency_new, recency_old, duration_long, duration_short]"
   ]
  },
  {
   "cell_type": "code",
   "execution_count": 14,
   "metadata": {},
   "outputs": [
    {
     "name": "stdout",
     "output_type": "stream",
     "text": [
      "[1.0, 0.33, 0.33, 0.0, 0.0, 0.29, 0.67, 0.58, 0.17]\n"
     ]
    }
   ],
   "source": [
    "maximum_score = max(all_avg_scores)\n",
    "minimum_score = min(all_avg_scores)\n",
    "\n",
    "PWUs = [round((score - minimum_score) / (maximum_score - minimum_score), 2) for score in all_avg_scores]\n",
    "print(PWUs)"
   ]
  },
  {
   "cell_type": "code",
   "execution_count": 17,
   "metadata": {},
   "outputs": [
    {
     "name": "stdout",
     "output_type": "stream",
     "text": [
      "raw_importance_genre:  1.0\n",
      "raw_importance_recency:  0.38000000000000006\n",
      "raw_importance_duration:  0.4099999999999999\n"
     ]
    }
   ],
   "source": [
    "PWUs_genre= PWUs[:5]\n",
    "raw_importance_genre = max(PWUs_genre) - min(PWUs_genre)\n",
    "PWUs_recency = PWUs[5:7]\n",
    "raw_importance_recency = max(PWUs_recency) - min(PWUs_recency)\n",
    "PWUs_duration = PWUs[7:]\n",
    "raw_importance_duration = max(PWUs_duration) - min(PWUs_duration)\n",
    "\n",
    "print(\"raw_importance_genre: \", raw_importance_genre)\n",
    "print(\"raw_importance_recency: \", raw_importance_recency)\n",
    "print(\"raw_importance_duration: \", raw_importance_duration)"
   ]
  },
  {
   "cell_type": "code",
   "execution_count": 18,
   "metadata": {},
   "outputs": [
    {
     "name": "stdout",
     "output_type": "stream",
     "text": [
      "relative_importance_genre:  0.5586592178770949\n",
      "relative_importance_recency:  0.21229050279329612\n",
      "relative_importance_duration:  0.2290502793296089\n"
     ]
    }
   ],
   "source": [
    "sum_raw_importance = raw_importance_genre + raw_importance_recency + raw_importance_duration\n",
    "\n",
    "relative_importance_genre = raw_importance_genre / sum_raw_importance\n",
    "relative_importance_recency = raw_importance_recency / sum_raw_importance\n",
    "relative_importance_duration = raw_importance_duration / sum_raw_importance\n",
    "print(\"relative_importance_genre: \", relative_importance_genre)\n",
    "print(\"relative_importance_recency: \", relative_importance_recency)\n",
    "print(\"relative_importance_duration: \", relative_importance_duration)"
   ]
  },
  {
   "cell_type": "markdown",
   "metadata": {},
   "source": [
    "For this user the genre is most important with a relative importance of 0.56. Recency and duration has the almost same relative importance with duration being a marginally more important with 0.23 vs. 0.21, while genre is more than twice as important as the two other attributes. This theory is supported by the dominance of family comedies for this specific user, while the other attributes have less of a pattern in the data compared to the love for family comedies"
   ]
  }
 ],
 "metadata": {
  "kernelspec": {
   "display_name": "Python 3",
   "language": "python",
   "name": "python3"
  },
  "language_info": {
   "codemirror_mode": {
    "name": "ipython",
    "version": 3
   },
   "file_extension": ".py",
   "mimetype": "text/x-python",
   "name": "python",
   "nbconvert_exporter": "python",
   "pygments_lexer": "ipython3",
   "version": "3.10.9"
  }
 },
 "nbformat": 4,
 "nbformat_minor": 2
}
